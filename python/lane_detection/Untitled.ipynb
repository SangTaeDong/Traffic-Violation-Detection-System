{
 "cells": [
  {
   "cell_type": "code",
   "execution_count": 6,
   "id": "cb5ce84f",
   "metadata": {},
   "outputs": [],
   "source": [
    "from module import NIA_SEGNet_module\n",
    "import pytorch_lightning as pl\n",
    "import cv2\n",
    "import matplotlib.pyplot as plt\n",
    "import torch\n",
    "\n",
    "model = NIA_SEGNet_module.load_from_checkpoint(checkpoint_path=\"/home/Capstone Design/epoch=3-step=99999.ckpt\")\n",
    "model.batch_size = 1"
   ]
  },
  {
   "cell_type": "code",
   "execution_count": null,
   "id": "56d754ab",
   "metadata": {},
   "outputs": [],
   "source": []
  }
 ],
 "metadata": {
  "kernelspec": {
   "display_name": "Python 3 (ipykernel)",
   "language": "python",
   "name": "python3"
  },
  "language_info": {
   "codemirror_mode": {
    "name": "ipython",
    "version": 3
   },
   "file_extension": ".py",
   "mimetype": "text/x-python",
   "name": "python",
   "nbconvert_exporter": "python",
   "pygments_lexer": "ipython3",
   "version": "3.8.10"
  }
 },
 "nbformat": 4,
 "nbformat_minor": 5
}
